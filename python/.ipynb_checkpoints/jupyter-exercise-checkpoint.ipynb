{
 "cells": [
  {
   "cell_type": "code",
   "execution_count": 2,
   "id": "1c65556d",
   "metadata": {},
   "outputs": [
    {
     "data": {
      "image/jpeg": "[encoded data removed]",
      "text/html": [
       "\n",
       "        <iframe\n",
       "            width=\"600\"\n",
       "            height=\"300\"\n",
       "            src=\"https://www.youtube.com/embed/jZ952vChhuI\"\n",
       "            frameborder=\"0\"\n",
       "            allowfullscreen\n",
       "            \n",
       "        ></iframe>\n",
       "        "
      ],
      "text/plain": [
       "<IPython.lib.display.YouTubeVideo at 0x23ee3dba8e0>"
      ]
     },
     "execution_count": 2,
     "metadata": {},
     "output_type": "execute_result"
    }
   ],
   "source": [
    "from IPython.display import Audio,Image,YouTubeVideo\n",
    "YouTubeVideo(id='jZ952vChhuI',width=600,height=300)"
   ]
  },
  {
   "cell_type": "code",
   "execution_count": 2,
   "id": "aabf92f4",
   "metadata": {},
   "outputs": [
    {
     "name": "stdout",
     "output_type": "stream",
     "text": [
      "30 10\n",
      "200 10240000000000\n",
      "2.0 2\n",
      "0\n"
     ]
    }
   ],
   "source": [
    "a = 20 \n",
    "b = 10 \n",
    "print(a+b, a-b)\n",
    "print(a*b, a**b)\n",
    "print(a/b, a//b)\n",
    "print(a%b)"
   ]
  },
  {
   "cell_type": "code",
   "execution_count": 6,
   "id": "656c3826",
   "metadata": {},
   "outputs": [
    {
     "name": "stdout",
     "output_type": "stream",
     "text": [
      "True True\n",
      "False\n",
      "False False\n",
      "True\n"
     ]
    }
   ],
   "source": [
    "print(a>b, a>=b)\n",
    "print( a==b)\n",
    "print(a<b, a<=b)\n",
    "print(a!=b)"
   ]
  },
  {
   "cell_type": "code",
   "execution_count": 7,
   "id": "566e06d4",
   "metadata": {},
   "outputs": [
    {
     "name": "stdout",
     "output_type": "stream",
     "text": [
      "do that\n"
     ]
    }
   ],
   "source": [
    "from math import sqrt\n",
    "if sqrt(a)*2==b:\n",
    "    print('do this')\n",
    "else:\n",
    "    print(\"do that\")"
   ]
  },
  {
   "cell_type": "code",
   "execution_count": 8,
   "id": "b018263c",
   "metadata": {},
   "outputs": [
    {
     "name": "stdout",
     "output_type": "stream",
     "text": [
      "say kuzu\n"
     ]
    }
   ],
   "source": [
    "c = 30 \n",
    "if a == b or a >c:\n",
    "    print(\"say hello\")\n",
    "elif a > b and b < c: \n",
    "    print(\"say kuzu\")\n",
    "else:\n",
    "    print('bye')"
   ]
  },
  {
   "cell_type": "code",
   "execution_count": 9,
   "id": "a4bb9d10",
   "metadata": {},
   "outputs": [
    {
     "name": "stdout",
     "output_type": "stream",
     "text": [
      "10\n",
      "10\n",
      "10\n",
      "10\n",
      "10\n",
      "10\n",
      "10\n",
      "10\n",
      "10\n",
      "10\n",
      "10\n",
      "10\n",
      "10\n",
      "10\n",
      "10\n",
      "10\n",
      "10\n",
      "10\n",
      "10\n",
      "10\n",
      "20\n"
     ]
    }
   ],
   "source": [
    "for i in range(a):\n",
    "    print(b)\n",
    "else:\n",
    "    print(a)"
   ]
  },
  {
   "cell_type": "code",
   "execution_count": 3,
   "id": "4614935c",
   "metadata": {},
   "outputs": [
    {
     "name": "stdout",
     "output_type": "stream",
     "text": [
      "yes\n",
      "yes\n",
      "yes\n",
      "yes\n",
      "yes\n",
      "yes\n",
      "yes\n",
      "yes\n",
      "yes\n",
      "yes\n"
     ]
    }
   ],
   "source": [
    "while(a>b):\n",
    "    print(\"yes\")\n",
    "    a=a-1  "
   ]
  },
  {
   "cell_type": "code",
   "execution_count": 4,
   "id": "8735fa55",
   "metadata": {},
   "outputs": [
    {
     "name": "stdout",
     "output_type": "stream",
     "text": [
      "[1, 2, 3, 4] [0, 1, 2, 3, 4, 5, 6, 7, 8, 9] [1, 2, 3, 4, 0, 1, 2, 3, 4, 5, 6, 7, 8, 9]\n"
     ]
    }
   ],
   "source": [
    "L1 = [1,2,3,4]\n",
    "L2 = [i for i in range(10)]\n",
    "print(L1,L2,L1+L2)"
   ]
  },
  {
   "cell_type": "code",
   "execution_count": 5,
   "id": "358f90e9",
   "metadata": {},
   "outputs": [
    {
     "name": "stdout",
     "output_type": "stream",
     "text": [
      "[9, 2, 3, 4] [0, 1, 2, 3, 4, 5, 6, 7, 8, 9] [9, 2, 3, 4] [1, 2, 3, 4]\n"
     ]
    }
   ],
   "source": [
    "L3=L1\n",
    "L4 = L1[:]\n",
    "L1[0]=L2[-1]\n",
    "print(L1,L2,L3,L4)"
   ]
  },
  {
   "cell_type": "code",
   "execution_count": 6,
   "id": "6f9c55c4",
   "metadata": {},
   "outputs": [
    {
     "data": {
      "text/plain": [
       "{'name': 'ugyen', 'age': 23, 'id': 12190038}"
      ]
     },
     "execution_count": 6,
     "metadata": {},
     "output_type": "execute_result"
    }
   ],
   "source": [
    "D={\"name\":\"ugyen\",\"age\":23,\"id\":12190038}\n",
    "D"
   ]
  },
  {
   "cell_type": "code",
   "execution_count": 7,
   "id": "c6b3cecb",
   "metadata": {},
   "outputs": [
    {
     "data": {
      "text/plain": [
       "{'name': 'ugyen', 'age': 23, 'id': 12190038}"
      ]
     },
     "execution_count": 7,
     "metadata": {},
     "output_type": "execute_result"
    }
   ],
   "source": [
    "D"
   ]
  },
  {
   "cell_type": "code",
   "execution_count": 8,
   "id": "18d97ae7",
   "metadata": {},
   "outputs": [
    {
     "data": {
      "text/plain": [
       "8"
      ]
     },
     "execution_count": 8,
     "metadata": {},
     "output_type": "execute_result"
    }
   ],
   "source": [
    "def funcA(a,b):\n",
    "    return a**b\n",
    "def funcB(a, b= 5):\n",
    "    return a**b\n",
    "funcA(2,3)"
   ]
  },
  {
   "cell_type": "code",
   "execution_count": 9,
   "id": "7ab4d47e",
   "metadata": {},
   "outputs": [
    {
     "data": {
      "text/plain": [
       "8"
      ]
     },
     "execution_count": 9,
     "metadata": {},
     "output_type": "execute_result"
    }
   ],
   "source": [
    "funcB(2,3)"
   ]
  },
  {
   "cell_type": "code",
   "execution_count": 10,
   "id": "cc091886",
   "metadata": {},
   "outputs": [
    {
     "data": {
      "text/plain": [
       "32"
      ]
     },
     "execution_count": 10,
     "metadata": {},
     "output_type": "execute_result"
    }
   ],
   "source": [
    "funcB(2)"
   ]
  },
  {
   "cell_type": "code",
   "execution_count": 11,
   "id": "da20ab61",
   "metadata": {},
   "outputs": [
    {
     "data": {
      "text/plain": [
       "100"
      ]
     },
     "execution_count": 11,
     "metadata": {},
     "output_type": "execute_result"
    }
   ],
   "source": [
    "f = lambda x: x**2\n",
    "g = lambda x,y: x **y \n",
    "f(10)"
   ]
  },
  {
   "cell_type": "code",
   "execution_count": 12,
   "id": "c81e611d",
   "metadata": {},
   "outputs": [
    {
     "data": {
      "text/plain": [
       "100"
      ]
     },
     "execution_count": 12,
     "metadata": {},
     "output_type": "execute_result"
    }
   ],
   "source": [
    "g(10,2)"
   ]
  },
  {
   "cell_type": "code",
   "execution_count": 14,
   "id": "ecc3bccb",
   "metadata": {},
   "outputs": [
    {
     "data": {
      "text/plain": [
       "<matplotlib.legend.Legend at 0x295109275b0>"
      ]
     },
     "execution_count": 14,
     "metadata": {},
     "output_type": "execute_result"
    },
    {
     "data": {
      "image/png": "[encoded data removed]",
      "text/plain": [
       "<Figure size 432x288 with 1 Axes>"
      ]
     },
     "metadata": {
      "needs_background": "light"
     },
     "output_type": "display_data"
    }
   ],
   "source": [
    "import matplotlib.pyplot as plt\n",
    "import numpy as np \n",
    "\n",
    "n = np.linspace(0,10)\n",
    "x = np.sin(n)\n",
    "plt.xlabel('Radians');\n",
    "plt.ylabel('Value');\n",
    "plt.legend(['Sin'])"
   ]
  },
  {
   "cell_type": "code",
   "execution_count": null,
   "id": "21d72699",
   "metadata": {},
   "outputs": [],
   "source": [
    "a"
   ]
  }
 ],
 "metadata": {
  "kernelspec": {
   "display_name": "Python 3 (ipykernel)",
   "language": "python",
   "name": "python3"
  },
  "language_info": {
   "codemirror_mode": {
    "name": "ipython",
    "version": 3
   },
   "file_extension": ".py",
   "mimetype": "text/x-python",
   "name": "python",
   "nbconvert_exporter": "python",
   "pygments_lexer": "ipython3",
   "version": "3.9.7"
  }
 },
 "nbformat": 4,
 "nbformat_minor": 5
}
