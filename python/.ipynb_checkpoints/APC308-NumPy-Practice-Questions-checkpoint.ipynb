{
 "cells": [
  {
   "cell_type": "markdown",
   "id": "5f7edb8b",
   "metadata": {},
   "source": [
    "# **APC308 - Data Mining**\n",
    "\n",
    "## Lab2: NumPy Practice Questions\n",
    "\n",
    "\n",
    "\n",
    "* Write your code in the code cells given under each question.\n",
    "\n",
    "\n",
    "* Save your notebook as **Lab2-NumPy-yourRegistrationNumber.ipynb**.\n",
    "\n",
    "\n",
    "* Submission instructions shall be given. \n"
   ]
  },
  {
   "cell_type": "code",
   "execution_count": null,
   "id": "8f26a357",
   "metadata": {},
   "outputs": [],
   "source": [
    "import numpy as np"
   ]
  },
  {
   "cell_type": "markdown",
   "id": "c668934f",
   "metadata": {},
   "source": [
    "#### 1. Create a 1D array of the first 100 integer numbers. "
   ]
  },
  {
   "cell_type": "code",
   "execution_count": null,
   "id": "bed013e9",
   "metadata": {},
   "outputs": [],
   "source": [
    "1D_array = np.arrange(100)"
   ]
  },
  {
   "cell_type": "markdown",
   "id": "c3c4bd45",
   "metadata": {},
   "source": [
    "#### 2. Create an array of integers beween 100 and 120  and display them in reverse order. "
   ]
  },
  {
   "cell_type": "code",
   "execution_count": null,
   "id": "4eef6b20",
   "metadata": {},
   "outputs": [],
   "source": []
  },
  {
   "cell_type": "markdown",
   "id": "e812cc59",
   "metadata": {},
   "source": [
    "#### 3. Create a 10x10 matrix of the first 100 integer numbers. "
   ]
  },
  {
   "cell_type": "code",
   "execution_count": null,
   "id": "a6dfa5fc",
   "metadata": {},
   "outputs": [],
   "source": []
  },
  {
   "cell_type": "markdown",
   "id": "06066803",
   "metadata": {},
   "source": [
    "#### 4. Create three 10x10 matrices of all zeroes, all ones, and the identity matrix. "
   ]
  },
  {
   "cell_type": "code",
   "execution_count": null,
   "id": "c1f27545",
   "metadata": {},
   "outputs": [],
   "source": []
  },
  {
   "cell_type": "markdown",
   "id": "4f128605",
   "metadata": {},
   "source": [
    "#### 5. Create a 3x3 matrix of random floating point values. "
   ]
  },
  {
   "cell_type": "code",
   "execution_count": null,
   "id": "b84c4b4f",
   "metadata": {},
   "outputs": [],
   "source": []
  },
  {
   "cell_type": "markdown",
   "id": "a01fb515",
   "metadata": {},
   "source": [
    "#### 6. Generate 10 evenly-spaced numbers between 1 and 4. "
   ]
  },
  {
   "cell_type": "code",
   "execution_count": null,
   "id": "371a97f6",
   "metadata": {},
   "outputs": [],
   "source": []
  },
  {
   "cell_type": "markdown",
   "id": "00e20f43",
   "metadata": {},
   "source": [
    "#### 7. Given the following array named M, slice and display just [4, 6]."
   ]
  },
  {
   "cell_type": "code",
   "execution_count": null,
   "id": "bd95f4f9",
   "metadata": {},
   "outputs": [],
   "source": [
    "M = np.array([ [1,   3,  5], [2,  4 ,  6], [7, 9, 11] ])\n"
   ]
  },
  {
   "cell_type": "markdown",
   "id": "0dfe5c2d",
   "metadata": {},
   "source": [
    "#### 8. Given the above array M, slice and display the sub matrix [ [3, 5], [4, 6] ]. "
   ]
  },
  {
   "cell_type": "code",
   "execution_count": null,
   "id": "b55902b7",
   "metadata": {},
   "outputs": [],
   "source": []
  },
  {
   "cell_type": "markdown",
   "id": "4ca1ff30",
   "metadata": {},
   "source": [
    "#### 9. Display both the column-wise and row-wise sums of M i.e. [10, 16, 22] and [9, 12, 27] respectively. "
   ]
  },
  {
   "cell_type": "code",
   "execution_count": null,
   "id": "1c9ff948",
   "metadata": {},
   "outputs": [],
   "source": []
  },
  {
   "cell_type": "markdown",
   "id": "0d5254cb",
   "metadata": {},
   "source": [
    "#### 10. Flatten M to a 1D array using appropriate  method. "
   ]
  },
  {
   "cell_type": "code",
   "execution_count": null,
   "id": "4a404293",
   "metadata": {},
   "outputs": [],
   "source": []
  },
  {
   "cell_type": "markdown",
   "id": "e7e87eba",
   "metadata": {},
   "source": [
    "#### 11. Find the <font color='orange'>second</font> largest number in a given matrix. Use your own matrix. "
   ]
  },
  {
   "cell_type": "code",
   "execution_count": null,
   "id": "7317ce13",
   "metadata": {},
   "outputs": [],
   "source": []
  },
  {
   "cell_type": "markdown",
   "id": "d8139b8b",
   "metadata": {},
   "source": [
    "#### 12. Multiply a 3x2 matrix with a 2x3 matrix (in at least two ways). "
   ]
  },
  {
   "cell_type": "code",
   "execution_count": null,
   "id": "66e6b43a",
   "metadata": {},
   "outputs": [],
   "source": []
  },
  {
   "cell_type": "markdown",
   "id": "854672de",
   "metadata": {},
   "source": [
    "#### 13. Given a matrix, display all its elements exceeding the median value. "
   ]
  },
  {
   "cell_type": "code",
   "execution_count": null,
   "id": "0024b5b0",
   "metadata": {},
   "outputs": [],
   "source": []
  },
  {
   "cell_type": "markdown",
   "id": "dd1dc379",
   "metadata": {},
   "source": [
    "#### 14. Compute the following hypothetical value. Assume ```i```  is each element of M, ```mean``` and ```std``` are the aggregate mean and standard deviation values of M. \n",
    "$$ result = \\sqrt{\\frac{mean + i} {std} }  $$"
   ]
  },
  {
   "cell_type": "code",
   "execution_count": null,
   "id": "8a1f3b66",
   "metadata": {},
   "outputs": [],
   "source": []
  },
  {
   "cell_type": "markdown",
   "id": "83331593",
   "metadata": {},
   "source": [
    "#### 15. Given the following formula for a certain parameter named Mean Square Error (MSE), use NumPy to compute its value. \n",
    "\n",
    "\n",
    "$$ MSE = \\frac{1}{n} \\sum_{i=1}^{n}(x_i-y_i)^2 $$\n"
   ]
  },
  {
   "cell_type": "code",
   "execution_count": null,
   "id": "a57fedb8",
   "metadata": {},
   "outputs": [],
   "source": [
    "# you are given the values of x and y below. Assume 'n' is the total no of elements.  \n",
    "\n",
    "x = np.arange(20)\n",
    "y = np.random.uniform(1, 10, 20)                        \n",
    "\n",
    "# MSE = ?? \n",
    "\n"
   ]
  }
 ],
 "metadata": {
  "kernelspec": {
   "display_name": "Python 3 (ipykernel)",
   "language": "python",
   "name": "python3"
  },
  "language_info": {
   "codemirror_mode": {
    "name": "ipython",
    "version": 3
   },
   "file_extension": ".py",
   "mimetype": "text/x-python",
   "name": "python",
   "nbconvert_exporter": "python",
   "pygments_lexer": "ipython3",
   "version": "3.9.7"
  }
 },
 "nbformat": 4,
 "nbformat_minor": 5
}
