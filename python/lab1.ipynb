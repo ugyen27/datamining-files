{
 "cells": [
  {
   "cell_type": "code",
   "execution_count": 1,
   "id": "9bead031",
   "metadata": {},
   "outputs": [
    {
     "name": "stdout",
     "output_type": "stream",
     "text": [
      "Requirement already satisfied: numpy in c:\\users\\hp\\anaconda3\\lib\\site-packages (1.20.3)\n"
     ]
    }
   ],
   "source": [
    "!pip install numpy"
   ]
  },
  {
   "cell_type": "code",
   "execution_count": 2,
   "id": "992e7303",
   "metadata": {},
   "outputs": [],
   "source": [
    "import numpy as np"
   ]
  },
  {
   "cell_type": "code",
   "execution_count": 77,
   "id": "ed776fa2",
   "metadata": {},
   "outputs": [
    {
     "data": {
      "text/plain": [
       "([1, 2, 3, 4, 5], [4, 8, 12, 16, 20])"
      ]
     },
     "execution_count": 77,
     "metadata": {},
     "output_type": "execute_result"
    }
   ],
   "source": [
    "L1 = [1,2,3,4,5]\n",
    "L2 = [ i*4 for i in L1 ]\n",
    "L1, L2"
   ]
  },
  {
   "cell_type": "code",
   "execution_count": 78,
   "id": "dc3abdae",
   "metadata": {},
   "outputs": [
    {
     "data": {
      "text/plain": [
       "[1, 2, 3, 4, 5, 1, 2, 3, 4, 5]"
      ]
     },
     "execution_count": 78,
     "metadata": {},
     "output_type": "execute_result"
    }
   ],
   "source": [
    "L1*2                    "
   ]
  },
  {
   "cell_type": "code",
   "execution_count": 79,
   "id": "b3ad1ddd",
   "metadata": {},
   "outputs": [
    {
     "name": "stdout",
     "output_type": "stream",
     "text": [
      "<class 'list'>\n"
     ]
    }
   ],
   "source": [
    "print(type(L1))"
   ]
  },
  {
   "cell_type": "code",
   "execution_count": 80,
   "id": "e2d44dbc",
   "metadata": {},
   "outputs": [
    {
     "name": "stdout",
     "output_type": "stream",
     "text": [
      "[10 20 30 40 50]\n"
     ]
    }
   ],
   "source": [
    "A2 = np.array([10,20,30,40,50])\n",
    "print(A2)"
   ]
  },
  {
   "cell_type": "code",
   "execution_count": 81,
   "id": "22b1c5d8",
   "metadata": {},
   "outputs": [
    {
     "name": "stdout",
     "output_type": "stream",
     "text": [
      "<class 'numpy.ndarray'>\n"
     ]
    }
   ],
   "source": [
    "print (type(A2))"
   ]
  },
  {
   "cell_type": "code",
   "execution_count": 82,
   "id": "54b3d852",
   "metadata": {},
   "outputs": [
    {
     "data": {
      "text/plain": [
       "(array([1., 2., 3., 4.]),\n",
       " array([0, 1, 2, 3, 4, 5, 6, 7, 8, 9]),\n",
       " array([[1, 2, 3],\n",
       "        [4, 5, 6]]),\n",
       " array([[0.17509297, 0.41572507, 0.165431  , 0.90549746],\n",
       "        [0.08860702, 0.19036629, 0.33717234, 0.57648856],\n",
       "        [0.51544518, 0.9618319 , 0.71073413, 0.02979106],\n",
       "        [0.61597434, 0.63622238, 0.11378924, 0.46695334]]))"
      ]
     },
     "execution_count": 82,
     "metadata": {},
     "output_type": "execute_result"
    }
   ],
   "source": [
    "A1 = np.array([1,2,3,4], dtype=\"float\")\n",
    "A2 = np.array([i for i in range(10)])\n",
    "A3 = np.array([ [1,2,3], [4,5,6] ])\n",
    "A4 = np.random.rand(4,4)\n",
    "A1, A2, A3, A4"
   ]
  },
  {
   "cell_type": "code",
   "execution_count": 83,
   "id": "9047875e",
   "metadata": {},
   "outputs": [
    {
     "name": "stdout",
     "output_type": "stream",
     "text": [
      "A1 dimension 1\n"
     ]
    }
   ],
   "source": [
    "print('A1 dimension', A1.ndim)"
   ]
  },
  {
   "cell_type": "code",
   "execution_count": 84,
   "id": "f681a39a",
   "metadata": {},
   "outputs": [
    {
     "name": "stdout",
     "output_type": "stream",
     "text": [
      "A2 dimension 1\n",
      "A3 dimension 2\n",
      "A4 dimension 2\n"
     ]
    }
   ],
   "source": [
    "print('A2 dimension', A2.ndim)\n",
    "print('A3 dimension', A3.ndim)\n",
    "print('A4 dimension', A4.ndim)"
   ]
  },
  {
   "cell_type": "code",
   "execution_count": 85,
   "id": "1213d5c8",
   "metadata": {},
   "outputs": [
    {
     "name": "stdout",
     "output_type": "stream",
     "text": [
      "A1 total elements: 4\n"
     ]
    }
   ],
   "source": [
    "print('A1 total elements:', A1.size)"
   ]
  },
  {
   "cell_type": "code",
   "execution_count": 86,
   "id": "ab83eb10",
   "metadata": {},
   "outputs": [
    {
     "name": "stdout",
     "output_type": "stream",
     "text": [
      "A3 total elements: 6\n"
     ]
    }
   ],
   "source": [
    "print('A3 total elements:', A3.size)"
   ]
  },
  {
   "cell_type": "code",
   "execution_count": 87,
   "id": "cf17994a",
   "metadata": {},
   "outputs": [
    {
     "name": "stdout",
     "output_type": "stream",
     "text": [
      "datatype: float64\n"
     ]
    }
   ],
   "source": [
    "print('datatype:', A1.dtype)"
   ]
  },
  {
   "cell_type": "code",
   "execution_count": 88,
   "id": "da139f04",
   "metadata": {},
   "outputs": [
    {
     "name": "stdout",
     "output_type": "stream",
     "text": [
      "datatype: float64\n"
     ]
    }
   ],
   "source": [
    "print('datatype:', A4.dtype)"
   ]
  },
  {
   "cell_type": "code",
   "execution_count": 89,
   "id": "a2a316fc",
   "metadata": {},
   "outputs": [
    {
     "name": "stdout",
     "output_type": "stream",
     "text": [
      "datatype: int32\n"
     ]
    }
   ],
   "source": [
    "print('datatype:', A2.dtype)"
   ]
  },
  {
   "cell_type": "code",
   "execution_count": 90,
   "id": "bd8ed47e",
   "metadata": {},
   "outputs": [
    {
     "name": "stdout",
     "output_type": "stream",
     "text": [
      "A1 shape: (4,)\n"
     ]
    }
   ],
   "source": [
    "print('A1 shape:', A1.shape)"
   ]
  },
  {
   "cell_type": "code",
   "execution_count": 91,
   "id": "b8158e5f",
   "metadata": {},
   "outputs": [
    {
     "name": "stdout",
     "output_type": "stream",
     "text": [
      "A2 shape: (10,)\n"
     ]
    }
   ],
   "source": [
    "print('A2 shape:', A2.shape)"
   ]
  },
  {
   "cell_type": "code",
   "execution_count": 92,
   "id": "82f5cce2",
   "metadata": {},
   "outputs": [
    {
     "name": "stdout",
     "output_type": "stream",
     "text": [
      "A1 shape: (4, 4)\n"
     ]
    }
   ],
   "source": [
    "print('A1 shape:', A4.shape)"
   ]
  },
  {
   "cell_type": "code",
   "execution_count": 93,
   "id": "da6b970e",
   "metadata": {},
   "outputs": [
    {
     "name": "stdout",
     "output_type": "stream",
     "text": [
      "A3 shape: (2, 3)\n"
     ]
    }
   ],
   "source": [
    "print('A3 shape:', A3.shape)"
   ]
  },
  {
   "cell_type": "code",
   "execution_count": 94,
   "id": "feaff4ec",
   "metadata": {},
   "outputs": [
    {
     "data": {
      "text/plain": [
       "array([[0., 1.],\n",
       "       [1., 2.]])"
      ]
     },
     "execution_count": 94,
     "metadata": {},
     "output_type": "execute_result"
    }
   ],
   "source": [
    "def f(a, b):\n",
    "    return a+b\n",
    "g = lambda x, y: x**y # lambda function\n",
    "Af = np.fromfunction(f, (2, 2)) # f executed over each coordinate i.e. (0,0)... (1,1)\n",
    "Ag = np.fromfunction(g, (5,3)) # figure out\n",
    "Af"
   ]
  },
  {
   "cell_type": "code",
   "execution_count": 95,
   "id": "6357925e",
   "metadata": {},
   "outputs": [
    {
     "data": {
      "text/plain": [
       "array([[ 1.,  0.,  0.],\n",
       "       [ 1.,  1.,  1.],\n",
       "       [ 1.,  2.,  4.],\n",
       "       [ 1.,  3.,  9.],\n",
       "       [ 1.,  4., 16.]])"
      ]
     },
     "execution_count": 95,
     "metadata": {},
     "output_type": "execute_result"
    }
   ],
   "source": [
    "Ag"
   ]
  },
  {
   "cell_type": "code",
   "execution_count": 96,
   "id": "0f60be4e",
   "metadata": {},
   "outputs": [
    {
     "data": {
      "text/plain": [
       "(array([10, 11, 12, 13, 14, 15, 16, 17, 18, 19]),\n",
       " array([1. , 1.1, 1.2, 1.3, 1.4, 1.5, 1.6, 1.7, 1.8, 1.9, 2. , 2.1, 2.2,\n",
       "        2.3, 2.4, 2.5, 2.6, 2.7, 2.8, 2.9, 3. , 3.1, 3.2, 3.3, 3.4, 3.5,\n",
       "        3.6, 3.7, 3.8, 3.9]))"
      ]
     },
     "execution_count": 96,
     "metadata": {},
     "output_type": "execute_result"
    }
   ],
   "source": [
    "B1 = np.arange(10, 20) # similar to range()\n",
    "B2 = np.arange(1, 4,0.1) # floating point stepping value possible\n",
    "B1, B2\n"
   ]
  },
  {
   "cell_type": "code",
   "execution_count": 97,
   "id": "b400920a",
   "metadata": {},
   "outputs": [
    {
     "data": {
      "text/plain": [
       "(array([ 1. ,  2.8,  4.6,  6.4,  8.2, 10. ]),\n",
       " array([ 1. ,  2.8,  4.6,  6.4,  8.2, 10. ]))"
      ]
     },
     "execution_count": 97,
     "metadata": {},
     "output_type": "execute_result"
    }
   ],
   "source": [
    "C1 = np.linspace(1, 10, 6) # 6 equally-spaced numbers between 1 and 10\n",
    "C2 = np.linspace(1, 10, num=6) # named argument possible\n",
    "C1, C2\n"
   ]
  },
  {
   "cell_type": "code",
   "execution_count": 98,
   "id": "50d0051b",
   "metadata": {},
   "outputs": [
    {
     "data": {
      "text/plain": [
       "(array([[0., 0., 0., 0., 0.],\n",
       "        [0., 0., 0., 0., 0.],\n",
       "        [0., 0., 0., 0., 0.],\n",
       "        [0., 0., 0., 0., 0.],\n",
       "        [0., 0., 0., 0., 0.]]),\n",
       " array([[1., 1., 1.],\n",
       "        [1., 1., 1.],\n",
       "        [1., 1., 1.]]),\n",
       " array([[0.17509297, 0.41572507, 0.165431  , 0.90549746],\n",
       "        [0.08860702, 0.19036629, 0.33717234, 0.57648856],\n",
       "        [0.51544518, 0.9618319 , 0.71073413, 0.02979106],\n",
       "        [0.61597434, 0.63622238, 0.11378924, 0.46695334]]))"
      ]
     },
     "execution_count": 98,
     "metadata": {},
     "output_type": "execute_result"
    }
   ],
   "source": [
    "D1 = np.zeros((5,5)) # 5x5 matrix filled with zeros\n",
    "D2 = np.ones((3,3)) # 3x3 matrix filled with ones\n",
    "D3 = np.empty((4,4)) # 4x4 matrix of arbitrary values\n",
    "D1, D2, D3\n"
   ]
  },
  {
   "cell_type": "code",
   "execution_count": 99,
   "id": "5b885c9c",
   "metadata": {},
   "outputs": [
    {
     "name": "stdout",
     "output_type": "stream",
     "text": [
      "1.0\n",
      "9\n"
     ]
    }
   ],
   "source": [
    "print(A1[0])\n",
    "print(A2[-1])\n"
   ]
  },
  {
   "cell_type": "code",
   "execution_count": 100,
   "id": "0b321456",
   "metadata": {},
   "outputs": [
    {
     "name": "stdout",
     "output_type": "stream",
     "text": [
      "1\n"
     ]
    }
   ],
   "source": [
    "print(A3[0][0])"
   ]
  },
  {
   "cell_type": "code",
   "execution_count": 101,
   "id": "8dd69165",
   "metadata": {},
   "outputs": [
    {
     "name": "stdout",
     "output_type": "stream",
     "text": [
      "1\n"
     ]
    }
   ],
   "source": [
    "print (A3[0, 0])"
   ]
  },
  {
   "cell_type": "code",
   "execution_count": 102,
   "id": "cb3665e6",
   "metadata": {},
   "outputs": [
    {
     "name": "stdout",
     "output_type": "stream",
     "text": [
      "[15 16 17 18 19]\n"
     ]
    }
   ],
   "source": [
    "print(B1[5:])"
   ]
  },
  {
   "cell_type": "code",
   "execution_count": 103,
   "id": "783e1a10",
   "metadata": {},
   "outputs": [
    {
     "data": {
      "text/plain": [
       "array([10, 11, 12, 13, 14, 15, 16, 17, 18, 19])"
      ]
     },
     "execution_count": 103,
     "metadata": {},
     "output_type": "execute_result"
    }
   ],
   "source": [
    "B1"
   ]
  },
  {
   "cell_type": "code",
   "execution_count": 104,
   "id": "4854e7b8",
   "metadata": {},
   "outputs": [
    {
     "name": "stdout",
     "output_type": "stream",
     "text": [
      "[10 12 14 16 18]\n"
     ]
    }
   ],
   "source": [
    "print (B1[::2])"
   ]
  },
  {
   "cell_type": "code",
   "execution_count": 105,
   "id": "4eef104f",
   "metadata": {},
   "outputs": [
    {
     "name": "stdout",
     "output_type": "stream",
     "text": [
      "[[2 3]\n",
      " [5 6]]\n"
     ]
    }
   ],
   "source": [
    "print(A3[:, 1:]) "
   ]
  },
  {
   "cell_type": "code",
   "execution_count": 106,
   "id": "a480149e",
   "metadata": {},
   "outputs": [
    {
     "data": {
      "text/plain": [
       "array([[1, 2, 3],\n",
       "       [4, 5, 6]])"
      ]
     },
     "execution_count": 106,
     "metadata": {},
     "output_type": "execute_result"
    }
   ],
   "source": [
    "A3"
   ]
  },
  {
   "cell_type": "code",
   "execution_count": 107,
   "id": "821371ba",
   "metadata": {},
   "outputs": [
    {
     "name": "stdout",
     "output_type": "stream",
     "text": [
      "(9,)\n"
     ]
    },
    {
     "data": {
      "text/plain": [
       "array([[ 2,  4,  6],\n",
       "       [ 8, 10, 12],\n",
       "       [14, 16, 18]])"
      ]
     },
     "execution_count": 107,
     "metadata": {},
     "output_type": "execute_result"
    }
   ],
   "source": [
    "X = np.arange(2,20, 2)\n",
    "print(X.shape)\n",
    "X.reshape(3,3) "
   ]
  },
  {
   "cell_type": "code",
   "execution_count": 108,
   "id": "05992b32",
   "metadata": {},
   "outputs": [
    {
     "data": {
      "text/plain": [
       "(array([1, 2, 3, 4]),\n",
       " array([[1, 2],\n",
       "        [3, 4]]))"
      ]
     },
     "execution_count": 108,
     "metadata": {},
     "output_type": "execute_result"
    }
   ],
   "source": [
    "a = np.array([1, 2, 3, 4])\n",
    "b = a.reshape(2,2)\n",
    "a, b\n"
   ]
  },
  {
   "cell_type": "code",
   "execution_count": 109,
   "id": "b23861b2",
   "metadata": {},
   "outputs": [
    {
     "name": "stdout",
     "output_type": "stream",
     "text": [
      "4 1\n"
     ]
    }
   ],
   "source": [
    "print(a.max(), a.min())"
   ]
  },
  {
   "cell_type": "code",
   "execution_count": 110,
   "id": "926a6e79",
   "metadata": {},
   "outputs": [
    {
     "name": "stdout",
     "output_type": "stream",
     "text": [
      "10 2.5 1.118033988749895\n",
      "10 2.5 1.118033988749895\n"
     ]
    }
   ],
   "source": [
    "print (a.sum(), a.mean(), a.std() )\n",
    "print (b.sum(), b.mean(), b.std() )"
   ]
  },
  {
   "cell_type": "code",
   "execution_count": 111,
   "id": "6165b22b",
   "metadata": {},
   "outputs": [
    {
     "name": "stdout",
     "output_type": "stream",
     "text": [
      "[4 6]\n",
      "[3 7]\n"
     ]
    }
   ],
   "source": [
    "print (b.sum(axis=0))\n",
    "print (b.sum(axis=1)) "
   ]
  },
  {
   "cell_type": "code",
   "execution_count": 112,
   "id": "d6805af8",
   "metadata": {},
   "outputs": [
    {
     "name": "stdout",
     "output_type": "stream",
     "text": [
      "[1.5 3.5]\n",
      "2.5 2.5\n",
      "1.75\n",
      "2.5\n",
      "3.25\n"
     ]
    }
   ],
   "source": [
    "print (b.mean(axis=1) )\n",
    "print(np.median(a), np.median(b))\n",
    "print (np.percentile(a, 25)) # 25th percentile = 1st quartile\n",
    "print (np.percentile(a, 50)) # 50th percentile = median.\n",
    "print (np.percentile(a, 75)) "
   ]
  },
  {
   "cell_type": "code",
   "execution_count": 113,
   "id": "149648e2",
   "metadata": {},
   "outputs": [
    {
     "data": {
      "text/plain": [
       "array([2, 4, 6])"
      ]
     },
     "execution_count": 113,
     "metadata": {},
     "output_type": "execute_result"
    }
   ],
   "source": [
    "x = np.array([1, 2, 3])\n",
    "y = 2\n",
    "x*y\n"
   ]
  },
  {
   "cell_type": "code",
   "execution_count": 114,
   "id": "61aa78c3",
   "metadata": {},
   "outputs": [
    {
     "name": "stdout",
     "output_type": "stream",
     "text": [
      "[[-0.98803162  0.01196838  1.01196838]\n",
      " [ 2.01196838  3.01196838  4.01196838]\n",
      " [ 5.01196838  6.01196838  7.01196838]\n",
      " [ 8.01196838  9.01196838 10.01196838]]\n",
      "[[ 1  3  5]\n",
      " [ 4  6  8]\n",
      " [ 7  9 11]\n",
      " [10 12 14]]\n"
     ]
    },
    {
     "data": {
      "text/plain": [
       "array([[0.        , 0.07574225, 1.62499288],\n",
       "       [2.61407676, 0.30296901, 4.0624822 ],\n",
       "       [5.22815352, 0.53019576, 6.49997153],\n",
       "       [7.84223028, 0.75742252, 8.93746085]])"
      ]
     },
     "execution_count": 114,
     "metadata": {},
     "output_type": "execute_result"
    }
   ],
   "source": [
    "z = np.arange(12).reshape(4,3)\n",
    "print (z + np.sin(30) ) # operation with a scalar value\n",
    "print (z + x) # x.shape = (3,) & z.shape = (4,3). X is broadcast.\n",
    "z * np.random.rand(1, 3) "
   ]
  },
  {
   "cell_type": "code",
   "execution_count": 115,
   "id": "67fc41f3",
   "metadata": {},
   "outputs": [
    {
     "name": "stdout",
     "output_type": "stream",
     "text": [
      "2557065809328 2557065809328\n",
      "True\n"
     ]
    }
   ],
   "source": [
    "A = np.array([1,2,3,4])\n",
    "B = A # B is a reference to array A\n",
    "print (id(A), id(B))\n",
    "print (A is B)\n"
   ]
  },
  {
   "cell_type": "code",
   "execution_count": 116,
   "id": "696a0e3e",
   "metadata": {},
   "outputs": [
    {
     "name": "stdout",
     "output_type": "stream",
     "text": [
      "2557065809328 2557065808272\n",
      "False\n"
     ]
    }
   ],
   "source": [
    "B = A.copy() # B is another copy of A\n",
    "print (id(A), id(B))\n",
    "print (A is B)\n"
   ]
  },
  {
   "cell_type": "code",
   "execution_count": 130,
   "id": "c94f1ef6",
   "metadata": {},
   "outputs": [
    {
     "data": {
      "text/plain": [
       "array([[[ 0,  1,  2,  3,  4],\n",
       "        [ 5,  6,  7,  8,  9],\n",
       "        [10, 11, 12, 13, 14],\n",
       "        [15, 16, 17, 18, 19],\n",
       "        [20, 21, 22, 23, 24],\n",
       "        [25, 26, 27, 28, 29],\n",
       "        [30, 31, 32, 33, 34]],\n",
       "\n",
       "       [[35, 36, 37, 38, 39],\n",
       "        [40, 41, 42, 43, 44],\n",
       "        [45, 46, 47, 48, 49],\n",
       "        [50, 51, 52, 53, 54],\n",
       "        [55, 56, 57, 58, 59],\n",
       "        [60, 61, 62, 63, 64],\n",
       "        [65, 66, 67, 68, 69]]])"
      ]
     },
     "execution_count": 130,
     "metadata": {},
     "output_type": "execute_result"
    }
   ],
   "source": [
    "my_array = np.arange(70)\n",
    "my_array.shape = (2,7,5)\n",
    "my_array"
   ]
  },
  {
   "cell_type": "code",
   "execution_count": 131,
   "id": "40c6ee81",
   "metadata": {},
   "outputs": [
    {
     "data": {
      "text/plain": [
       "(2, 7, 5)"
      ]
     },
     "execution_count": 131,
     "metadata": {},
     "output_type": "execute_result"
    }
   ],
   "source": [
    "my_array.shape"
   ]
  },
  {
   "cell_type": "code",
   "execution_count": 132,
   "id": "349cf623",
   "metadata": {},
   "outputs": [
    {
     "data": {
      "text/plain": [
       "(array([[0., 0., 0., 0., 0.],\n",
       "        [0., 0., 0., 0., 0.],\n",
       "        [0., 0., 0., 0., 0.],\n",
       "        [0., 0., 0., 0., 0.],\n",
       "        [0., 0., 0., 0., 0.]]),\n",
       " array([[1., 1., 1.],\n",
       "        [1., 1., 1.],\n",
       "        [1., 1., 1.]]),\n",
       " array([[0.17509297, 0.41572507, 0.165431  , 0.90549746],\n",
       "        [0.08860702, 0.19036629, 0.33717234, 0.57648856],\n",
       "        [0.51544518, 0.9618319 , 0.71073413, 0.02979106],\n",
       "        [0.61597434, 0.63622238, 0.11378924, 0.46695334]]))"
      ]
     },
     "execution_count": 132,
     "metadata": {},
     "output_type": "execute_result"
    }
   ],
   "source": [
    "D1 = np.zeros((5,5)) # 5x5 matrix filled with zeros\n",
    "D2 = np.ones((3,3)) # 3x3 matrix filled with ones\n",
    "D3 = np.empty((4,4)) # 4x4 matrix of arbitrary values\n",
    "D1, D2, D3\n"
   ]
  },
  {
   "cell_type": "code",
   "execution_count": null,
   "id": "2fc8e1e2",
   "metadata": {},
   "outputs": [],
   "source": []
  }
 ],
 "metadata": {
  "kernelspec": {
   "display_name": "Python 3 (ipykernel)",
   "language": "python",
   "name": "python3"
  },
  "language_info": {
   "codemirror_mode": {
    "name": "ipython",
    "version": 3
   },
   "file_extension": ".py",
   "mimetype": "text/x-python",
   "name": "python",
   "nbconvert_exporter": "python",
   "pygments_lexer": "ipython3",
   "version": "3.9.7"
  }
 },
 "nbformat": 4,
 "nbformat_minor": 5
}
