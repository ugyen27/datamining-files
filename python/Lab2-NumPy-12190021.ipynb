{
 "cells": [
  {
   "cell_type": "markdown",
   "id": "3c7300ea",
   "metadata": {},
   "source": [
    "# **APC308 - Data Mining**\n",
    "\n",
    "## Lab2: NumPy Practice Questions\n",
    "\n",
    "\n",
    "\n",
    "* Write your code in the code cells given under each question.\n",
    "\n",
    "\n",
    "* Save your notebook as **Lab2-NumPy-yourRegistrationNumber.ipynb**.\n",
    "\n",
    "\n",
    "* Submission instructions shall be given. \n"
   ]
  },
  {
   "cell_type": "code",
   "execution_count": 18,
   "id": "9146a87b",
   "metadata": {},
   "outputs": [],
   "source": [
    "import numpy as np"
   ]
  },
  {
   "cell_type": "markdown",
   "id": "3e225c7d",
   "metadata": {},
   "source": [
    "#### 1. Create a 1D array of the first 100 integer numbers. "
   ]
  },
  {
   "cell_type": "code",
   "execution_count": 19,
   "id": "f1028588",
   "metadata": {},
   "outputs": [
    {
     "name": "stdout",
     "output_type": "stream",
     "text": [
      "[ 0  1  2  3  4  5  6  7  8  9 10 11 12 13 14 15 16 17 18 19 20 21 22 23\n",
      " 24 25 26 27 28 29 30 31 32 33 34 35 36 37 38 39 40 41 42 43 44 45 46 47\n",
      " 48 49 50 51 52 53 54 55 56 57 58 59 60 61 62 63 64 65 66 67 68 69 70 71\n",
      " 72 73 74 75 76 77 78 79 80 81 82 83 84 85 86 87 88 89 90 91 92 93 94 95\n",
      " 96 97 98 99]\n"
     ]
    }
   ],
   "source": [
    "import numpy as np\n",
    "nb = np.array([num for num in range(100)])\n",
    "print(nb)"
   ]
  },
  {
   "cell_type": "markdown",
   "id": "6be3c493",
   "metadata": {},
   "source": [
    "#### 2. Create an array of integers beween 100 and 120  and display them in reverse order. "
   ]
  },
  {
   "cell_type": "code",
   "execution_count": 20,
   "id": "53814132",
   "metadata": {},
   "outputs": [
    {
     "name": "stdout",
     "output_type": "stream",
     "text": [
      "[119 118 117 116 115 114 113 112 111 110 109 108 107 106 105 104 103 102\n",
      " 101 100]\n"
     ]
    }
   ],
   "source": [
    "nb = np.arange(100, 120)\n",
    "print(nb[::-1])"
   ]
  },
  {
   "cell_type": "markdown",
   "id": "b7b52b7b",
   "metadata": {},
   "source": [
    "#### 3. Create a 10x10 matrix of the first 100 integer numbers. "
   ]
  },
  {
   "cell_type": "code",
   "execution_count": 21,
   "id": "106350d0",
   "metadata": {},
   "outputs": [
    {
     "data": {
      "text/plain": [
       "array([[ 0,  1,  2,  3,  4,  5,  6,  7,  8,  9],\n",
       "       [10, 11, 12, 13, 14, 15, 16, 17, 18, 19],\n",
       "       [20, 21, 22, 23, 24, 25, 26, 27, 28, 29],\n",
       "       [30, 31, 32, 33, 34, 35, 36, 37, 38, 39],\n",
       "       [40, 41, 42, 43, 44, 45, 46, 47, 48, 49],\n",
       "       [50, 51, 52, 53, 54, 55, 56, 57, 58, 59],\n",
       "       [60, 61, 62, 63, 64, 65, 66, 67, 68, 69],\n",
       "       [70, 71, 72, 73, 74, 75, 76, 77, 78, 79],\n",
       "       [80, 81, 82, 83, 84, 85, 86, 87, 88, 89],\n",
       "       [90, 91, 92, 93, 94, 95, 96, 97, 98, 99]])"
      ]
     },
     "execution_count": 21,
     "metadata": {},
     "output_type": "execute_result"
    }
   ],
   "source": [
    "nb = np.array([i for i in range(100)])\n",
    "nb.reshape(10,10)"
   ]
  },
  {
   "cell_type": "markdown",
   "id": "8e9ef7c2",
   "metadata": {},
   "source": [
    "#### 4. Create three 10x10 matrices of all zeroes, all ones, and the identity matrix. "
   ]
  },
  {
   "cell_type": "code",
   "execution_count": 22,
   "id": "b543af9d",
   "metadata": {},
   "outputs": [
    {
     "data": {
      "text/plain": [
       "(array([[0., 0., 0., 0., 0., 0., 0., 0., 0., 0.],\n",
       "        [0., 0., 0., 0., 0., 0., 0., 0., 0., 0.],\n",
       "        [0., 0., 0., 0., 0., 0., 0., 0., 0., 0.],\n",
       "        [0., 0., 0., 0., 0., 0., 0., 0., 0., 0.],\n",
       "        [0., 0., 0., 0., 0., 0., 0., 0., 0., 0.],\n",
       "        [0., 0., 0., 0., 0., 0., 0., 0., 0., 0.],\n",
       "        [0., 0., 0., 0., 0., 0., 0., 0., 0., 0.],\n",
       "        [0., 0., 0., 0., 0., 0., 0., 0., 0., 0.],\n",
       "        [0., 0., 0., 0., 0., 0., 0., 0., 0., 0.],\n",
       "        [0., 0., 0., 0., 0., 0., 0., 0., 0., 0.]]),\n",
       " array([[1., 1., 1., 1., 1., 1., 1., 1., 1., 1.],\n",
       "        [1., 1., 1., 1., 1., 1., 1., 1., 1., 1.],\n",
       "        [1., 1., 1., 1., 1., 1., 1., 1., 1., 1.],\n",
       "        [1., 1., 1., 1., 1., 1., 1., 1., 1., 1.],\n",
       "        [1., 1., 1., 1., 1., 1., 1., 1., 1., 1.],\n",
       "        [1., 1., 1., 1., 1., 1., 1., 1., 1., 1.],\n",
       "        [1., 1., 1., 1., 1., 1., 1., 1., 1., 1.],\n",
       "        [1., 1., 1., 1., 1., 1., 1., 1., 1., 1.],\n",
       "        [1., 1., 1., 1., 1., 1., 1., 1., 1., 1.],\n",
       "        [1., 1., 1., 1., 1., 1., 1., 1., 1., 1.]]),\n",
       " array([[1., 0., 0., 0., 0., 0., 0., 0., 0., 0.],\n",
       "        [0., 1., 0., 0., 0., 0., 0., 0., 0., 0.],\n",
       "        [0., 0., 1., 0., 0., 0., 0., 0., 0., 0.],\n",
       "        [0., 0., 0., 1., 0., 0., 0., 0., 0., 0.],\n",
       "        [0., 0., 0., 0., 1., 0., 0., 0., 0., 0.],\n",
       "        [0., 0., 0., 0., 0., 1., 0., 0., 0., 0.],\n",
       "        [0., 0., 0., 0., 0., 0., 1., 0., 0., 0.],\n",
       "        [0., 0., 0., 0., 0., 0., 0., 1., 0., 0.],\n",
       "        [0., 0., 0., 0., 0., 0., 0., 0., 1., 0.],\n",
       "        [0., 0., 0., 0., 0., 0., 0., 0., 0., 1.]]))"
      ]
     },
     "execution_count": 22,
     "metadata": {},
     "output_type": "execute_result"
    }
   ],
   "source": [
    "nb1 = np.zeros((10,10))\n",
    "nb2 = np.ones((10,10))\n",
    "nb3 = np.identity(10)\n",
    "nb1, nb2, nb3"
   ]
  },
  {
   "cell_type": "markdown",
   "id": "5c310f81",
   "metadata": {},
   "source": [
    "#### 5. Create a 3x3 matrix of random floating point values. "
   ]
  },
  {
   "cell_type": "code",
   "execution_count": 23,
   "id": "ac9cdb79",
   "metadata": {},
   "outputs": [
    {
     "name": "stdout",
     "output_type": "stream",
     "text": [
      "[[0.62361632 0.04491288 0.1325912 ]\n",
      " [0.63437918 0.79192905 0.31077656]\n",
      " [0.59949887 0.78810445 0.14879905]]\n"
     ]
    }
   ],
   "source": [
    "random_3_matrix_array = np.random.rand(3, 3)\n",
    "print(random_3_matrix_array)"
   ]
  },
  {
   "cell_type": "markdown",
   "id": "0e3404c6",
   "metadata": {},
   "source": [
    "#### 6. Generate 10 evenly-spaced numbers between 1 and 4. "
   ]
  },
  {
   "cell_type": "code",
   "execution_count": 24,
   "id": "1af212a0",
   "metadata": {},
   "outputs": [
    {
     "data": {
      "text/plain": [
       "array([1.        , 1.33333333, 1.66666667, 2.        , 2.33333333,\n",
       "       2.66666667, 3.        , 3.33333333, 3.66666667, 4.        ])"
      ]
     },
     "execution_count": 24,
     "metadata": {},
     "output_type": "execute_result"
    }
   ],
   "source": [
    "nb = np.linspace(1, 4, 10)\n",
    "nb"
   ]
  },
  {
   "cell_type": "markdown",
   "id": "8a5d2a5c",
   "metadata": {},
   "source": [
    "#### 7. Given the following array named M, slice and display just [4, 6]."
   ]
  },
  {
   "cell_type": "code",
   "execution_count": 25,
   "id": "7b182b17",
   "metadata": {},
   "outputs": [
    {
     "name": "stdout",
     "output_type": "stream",
     "text": [
      "[[4 6]]\n"
     ]
    }
   ],
   "source": [
    "nb = np.array([ [1,   3,  5], [2,  4 ,  6], [7, 9, 11] ])\n",
    "print(nb[1:2,1:3])"
   ]
  },
  {
   "cell_type": "markdown",
   "id": "9fbb92fc",
   "metadata": {},
   "source": [
    "#### 8. Given the above array M, slice and display the sub matrix [ [3, 5], [4, 6] ]. "
   ]
  },
  {
   "cell_type": "code",
   "execution_count": 26,
   "id": "ee14b922",
   "metadata": {},
   "outputs": [
    {
     "name": "stdout",
     "output_type": "stream",
     "text": [
      "[[3 5]\n",
      " [4 6]]\n"
     ]
    }
   ],
   "source": [
    "print(nb[0:2,1:3])\n"
   ]
  },
  {
   "cell_type": "markdown",
   "id": "34e17621",
   "metadata": {},
   "source": [
    "#### 9. Display both the column-wise and row-wise sums of M i.e. [10, 16, 22] and [9, 12, 27] respectively. "
   ]
  },
  {
   "cell_type": "code",
   "execution_count": 27,
   "id": "829a68b2",
   "metadata": {},
   "outputs": [
    {
     "name": "stdout",
     "output_type": "stream",
     "text": [
      "[10 16 22]\n",
      "[ 9 12 27]\n"
     ]
    }
   ],
   "source": [
    "print (nb.sum(axis=0))\n",
    "print (nb.sum(axis=1))"
   ]
  },
  {
   "cell_type": "markdown",
   "id": "e25270c6",
   "metadata": {},
   "source": [
    "#### 10. Flatten M to a 1D array using appropriate  method. "
   ]
  },
  {
   "cell_type": "code",
   "execution_count": 28,
   "id": "2675b80d",
   "metadata": {},
   "outputs": [
    {
     "data": {
      "text/plain": [
       "array([[ 1,  3,  5,  2,  4,  6,  7,  9, 11]])"
      ]
     },
     "execution_count": 28,
     "metadata": {},
     "output_type": "execute_result"
    }
   ],
   "source": [
    "nb = nb.reshape([1,9])\n",
    "nb"
   ]
  },
  {
   "cell_type": "markdown",
   "id": "1995a346",
   "metadata": {},
   "source": [
    "#### 11. Find the <font color='orange'>second</font> largest number in a given matrix. Use your own matrix. "
   ]
  },
  {
   "cell_type": "code",
   "execution_count": 29,
   "id": "52002277",
   "metadata": {},
   "outputs": [
    {
     "name": "stdout",
     "output_type": "stream",
     "text": [
      "200\n"
     ]
    }
   ],
   "source": [
    "x = [100, 200, 300, 150, 50]  \n",
    "  \n",
    "y = set(x)  \n",
    "    \n",
    "y.remove(max(y))  \n",
    "   \n",
    "print(max(y)) "
   ]
  },
  {
   "cell_type": "markdown",
   "id": "579227e1",
   "metadata": {},
   "source": [
    "#### 12. Multiply a 3x2 matrix with a 2x3 matrix (in at least two ways). "
   ]
  },
  {
   "cell_type": "code",
   "execution_count": 30,
   "id": "a47dd509",
   "metadata": {},
   "outputs": [
    {
     "data": {
      "text/plain": [
       "(array([[ 3,  4,  5],\n",
       "        [ 9, 14, 19],\n",
       "        [15, 24, 33]]),\n",
       " array([[ 3,  4,  5],\n",
       "        [ 9, 14, 19],\n",
       "        [15, 24, 33]]))"
      ]
     },
     "execution_count": 30,
     "metadata": {},
     "output_type": "execute_result"
    }
   ],
   "source": [
    "nb1 = np.arange(6).reshape(3,2)\n",
    "nb2 = np.arange(6).reshape(2,3)\n",
    "nb3= nb1.dot(nb2)\n",
    "nb4= nb1 @ nb2\n",
    "\n",
    "nb3, nb4 \n"
   ]
  },
  {
   "cell_type": "markdown",
   "id": "8eff3670",
   "metadata": {},
   "source": [
    "#### 13. Given a matrix, display all its elements exceeding the median value. "
   ]
  },
  {
   "cell_type": "code",
   "execution_count": 31,
   "id": "98b4f568",
   "metadata": {
    "scrolled": true
   },
   "outputs": [
    {
     "name": "stdout",
     "output_type": "stream",
     "text": [
      "3\n",
      "4\n"
     ]
    }
   ],
   "source": [
    "S = np.array([1, 2, 3, 4])\n",
    "R = (np.percentile(S, 50))\n",
    "for i in range(len(S)):\n",
    "        if S[i] > R:\n",
    "            print(S[i])\n"
   ]
  },
  {
   "cell_type": "markdown",
   "id": "5a40f68e",
   "metadata": {},
   "source": [
    "#### 14. Compute the following hypothetical value. Assume ```i```  is each element of M, ```mean``` and ```std``` are the aggregate mean and standard deviation values of M. \n",
    "$$ result = \\sqrt{\\frac{mean + i} {std} }  $$"
   ]
  },
  {
   "cell_type": "code",
   "execution_count": 32,
   "id": "78e38216",
   "metadata": {},
   "outputs": [
    {
     "name": "stdout",
     "output_type": "stream",
     "text": [
      "1.7693205386531028\n",
      "2.006220914929266\n",
      "2.217960673794632\n",
      "2.4111774595619155\n"
     ]
    }
   ],
   "source": [
    "import numpy as np\n",
    "import math\n",
    "\n",
    "S = np.array([1, 2, 3, 4])\n",
    "R = S.mean() \n",
    "SR = S.std()\n",
    "for i in S:\n",
    "    result = math.sqrt((R + i)/SR)\n",
    "    print(result)\n",
    "\n"
   ]
  },
  {
   "cell_type": "markdown",
   "id": "1c4159c2",
   "metadata": {},
   "source": [
    "#### 15. Given the following formula for a certain parameter named Mean Square Error (MSE), use NumPy to compute its value. \n",
    "\n",
    "\n",
    "$$ MSE = \\frac{1}{n} \\sum_{i=1}^{n}(x_i-y_i)^2 $$\n"
   ]
  },
  {
   "cell_type": "code",
   "execution_count": 33,
   "id": "c5403bed",
   "metadata": {},
   "outputs": [
    {
     "data": {
      "text/plain": [
       "(array([ 0,  1,  2,  3,  4,  5,  6,  7,  8,  9, 10, 11, 12, 13, 14, 15, 16,\n",
       "        17, 18, 19]),\n",
       " array([3.36863604, 1.70734814, 5.97292234, 7.15126143, 6.2091054 ,\n",
       "        3.4122434 , 6.85863048, 1.63868297, 4.15460209, 4.31444189,\n",
       "        2.46376155, 4.9599109 , 3.67654065, 7.45612593, 6.48807616,\n",
       "        6.50344328, 9.92139946, 8.58034876, 2.20732721, 3.63274366]),\n",
       " 51.69011540340481)"
      ]
     },
     "execution_count": 33,
     "metadata": {},
     "output_type": "execute_result"
    }
   ],
   "source": [
    "# you are given the values of x and y below. Assume 'n' is the total no of elements.  \n",
    "\n",
    "x = np.arange(20)\n",
    "y = np.random.uniform(1, 10, 20)                        \n",
    "\n",
    "\n",
    "# Mean Squared Error\n",
    "MSE = np.square(np.subtract(x,y)).mean()\n",
    "x,y,MSE\n",
    "\n",
    "\n"
   ]
  },
  {
   "cell_type": "code",
   "execution_count": null,
   "id": "9d59986f",
   "metadata": {},
   "outputs": [],
   "source": []
  },
  {
   "cell_type": "code",
   "execution_count": null,
   "id": "3ad734d2",
   "metadata": {},
   "outputs": [],
   "source": []
  },
  {
   "cell_type": "code",
   "execution_count": null,
   "id": "21fdc7ef",
   "metadata": {},
   "outputs": [],
   "source": []
  },
  {
   "cell_type": "code",
   "execution_count": null,
   "id": "72ff4090",
   "metadata": {},
   "outputs": [],
   "source": []
  },
  {
   "cell_type": "code",
   "execution_count": null,
   "id": "6296bd7c",
   "metadata": {},
   "outputs": [],
   "source": []
  }
 ],
 "metadata": {
  "kernelspec": {
   "display_name": "Python 3 (ipykernel)",
   "language": "python",
   "name": "python3"
  },
  "language_info": {
   "codemirror_mode": {
    "name": "ipython",
    "version": 3
   },
   "file_extension": ".py",
   "mimetype": "text/x-python",
   "name": "python",
   "nbconvert_exporter": "python",
   "pygments_lexer": "ipython3",
   "version": "3.9.7"
  }
 },
 "nbformat": 4,
 "nbformat_minor": 5
}
