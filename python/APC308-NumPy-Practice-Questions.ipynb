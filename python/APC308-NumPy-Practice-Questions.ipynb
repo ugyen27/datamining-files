{
 "cells": [
  {
   "cell_type": "markdown",
   "id": "5f7edb8b",
   "metadata": {},
   "source": [
    "# **APC308 - Data Mining**\n",
    "\n",
    "## Lab2: NumPy Practice Questions\n",
    "\n",
    "\n",
    "\n",
    "* Write your code in the code cells given under each question.\n",
    "\n",
    "\n",
    "* Save your notebook as **Lab2-NumPy-yourRegistrationNumber.ipynb**.\n",
    "\n",
    "\n",
    "* Submission instructions shall be given. \n"
   ]
  },
  {
   "cell_type": "code",
   "execution_count": 5,
   "id": "8f26a357",
   "metadata": {},
   "outputs": [],
   "source": [
    "import numpy as np"
   ]
  },
  {
   "cell_type": "markdown",
   "id": "c668934f",
   "metadata": {},
   "source": [
    "#### 1. Create a 1D array of the first 100 integer numbers. "
   ]
  },
  {
   "cell_type": "code",
   "execution_count": 8,
   "id": "bed013e9",
   "metadata": {},
   "outputs": [
    {
     "data": {
      "text/plain": [
       "array([ 0,  1,  2,  3,  4,  5,  6,  7,  8,  9, 10, 11, 12, 13, 14, 15, 16,\n",
       "       17, 18, 19, 20, 21, 22, 23, 24, 25, 26, 27, 28, 29, 30, 31, 32, 33,\n",
       "       34, 35, 36, 37, 38, 39, 40, 41, 42, 43, 44, 45, 46, 47, 48, 49, 50,\n",
       "       51, 52, 53, 54, 55, 56, 57, 58, 59, 60, 61, 62, 63, 64, 65, 66, 67,\n",
       "       68, 69, 70, 71, 72, 73, 74, 75, 76, 77, 78, 79, 80, 81, 82, 83, 84,\n",
       "       85, 86, 87, 88, 89, 90, 91, 92, 93, 94, 95, 96, 97, 98, 99])"
      ]
     },
     "execution_count": 8,
     "metadata": {},
     "output_type": "execute_result"
    }
   ],
   "source": [
    "OneD_array = np.arange(100)\n",
    "OneD_array"
   ]
  },
  {
   "cell_type": "markdown",
   "id": "c3c4bd45",
   "metadata": {},
   "source": [
    "#### 2. Create an array of integers beween 100 and 120  and display them in reverse order. "
   ]
  },
  {
   "cell_type": "code",
   "execution_count": 11,
   "id": "4eef6b20",
   "metadata": {},
   "outputs": [
    {
     "name": "stdout",
     "output_type": "stream",
     "text": [
      "Atual Array is : [100 101 102 103 104 105 106 107 108 109 110 111 112 113 114 115 116 117\n",
      " 118 119]\n",
      "Resultant new reversed array: [119 118 117 116 115 114 113 112 111 110 109 108 107 106 105 104 103 102\n",
      " 101 100]\n"
     ]
    }
   ],
   "source": [
    "my_array = np.arange(100,120)\n",
    "print(\"Atual Array is :\",my_array)\n",
    "res = my_array[::-1]\n",
    "print(\"Resultant new reversed array:\",res)"
   ]
  },
  {
   "cell_type": "markdown",
   "id": "e812cc59",
   "metadata": {},
   "source": [
    "#### 3. Create a 10x10 matrix of the first 100 integer numbers. "
   ]
  },
  {
   "cell_type": "code",
   "execution_count": 23,
   "id": "a6dfa5fc",
   "metadata": {},
   "outputs": [
    {
     "name": "stdout",
     "output_type": "stream",
     "text": [
      "[[83 46  3 33 19 46 17 60 40  8]\n",
      " [74 92 22 54  2 93  4 74 57 78]\n",
      " [56  4 47 70 51 56  8 49 54 80]\n",
      " [73 76 71 16 88 82 72 43  2 19]\n",
      " [78 75 46 53 95 45 65 96 34 28]\n",
      " [27  3 41 72 82 36 19 69 45 59]\n",
      " [36  4  5 58 12 31 42 70  1 28]\n",
      " [15 77 22 13  2 62 51 29 86 44]\n",
      " [43 14 92  9  1 80 49 27  7  2]\n",
      " [73 75 89 17 68 47 42 68 36 48]]\n"
     ]
    }
   ],
   "source": [
    "\n",
    "array = np.random.randint(100, size=(10, 10))\n",
    "print(array)"
   ]
  },
  {
   "cell_type": "markdown",
   "id": "06066803",
   "metadata": {},
   "source": [
    "#### 4. Create three 10x10 matrices of all zeroes, all ones, and the identity matrix. "
   ]
  },
  {
   "cell_type": "code",
   "execution_count": 43,
   "id": "c1f27545",
   "metadata": {},
   "outputs": [
    {
     "data": {
      "text/plain": [
       "(array([[0., 0., 0., 0., 0., 0., 0., 0., 0., 0.],\n",
       "        [0., 0., 0., 0., 0., 0., 0., 0., 0., 0.],\n",
       "        [0., 0., 0., 0., 0., 0., 0., 0., 0., 0.],\n",
       "        [0., 0., 0., 0., 0., 0., 0., 0., 0., 0.],\n",
       "        [0., 0., 0., 0., 0., 0., 0., 0., 0., 0.],\n",
       "        [0., 0., 0., 0., 0., 0., 0., 0., 0., 0.],\n",
       "        [0., 0., 0., 0., 0., 0., 0., 0., 0., 0.],\n",
       "        [0., 0., 0., 0., 0., 0., 0., 0., 0., 0.],\n",
       "        [0., 0., 0., 0., 0., 0., 0., 0., 0., 0.],\n",
       "        [0., 0., 0., 0., 0., 0., 0., 0., 0., 0.]]),\n",
       " array([[1., 1., 1., 1., 1., 1., 1., 1., 1., 1.],\n",
       "        [1., 1., 1., 1., 1., 1., 1., 1., 1., 1.],\n",
       "        [1., 1., 1., 1., 1., 1., 1., 1., 1., 1.],\n",
       "        [1., 1., 1., 1., 1., 1., 1., 1., 1., 1.],\n",
       "        [1., 1., 1., 1., 1., 1., 1., 1., 1., 1.],\n",
       "        [1., 1., 1., 1., 1., 1., 1., 1., 1., 1.],\n",
       "        [1., 1., 1., 1., 1., 1., 1., 1., 1., 1.],\n",
       "        [1., 1., 1., 1., 1., 1., 1., 1., 1., 1.],\n",
       "        [1., 1., 1., 1., 1., 1., 1., 1., 1., 1.],\n",
       "        [1., 1., 1., 1., 1., 1., 1., 1., 1., 1.]]),\n",
       " array([[1., 0., 0., 0., 0., 0., 0., 0., 0., 0.],\n",
       "        [0., 1., 0., 0., 0., 0., 0., 0., 0., 0.],\n",
       "        [0., 0., 1., 0., 0., 0., 0., 0., 0., 0.],\n",
       "        [0., 0., 0., 1., 0., 0., 0., 0., 0., 0.],\n",
       "        [0., 0., 0., 0., 1., 0., 0., 0., 0., 0.],\n",
       "        [0., 0., 0., 0., 0., 1., 0., 0., 0., 0.],\n",
       "        [0., 0., 0., 0., 0., 0., 1., 0., 0., 0.],\n",
       "        [0., 0., 0., 0., 0., 0., 0., 1., 0., 0.],\n",
       "        [0., 0., 0., 0., 0., 0., 0., 0., 1., 0.],\n",
       "        [0., 0., 0., 0., 0., 0., 0., 0., 0., 1.]]))"
      ]
     },
     "execution_count": 43,
     "metadata": {},
     "output_type": "execute_result"
    }
   ],
   "source": [
    "D1 = np.zeros((10,10)) \n",
    "D2 = np.ones((10,10)) \n",
    "D3 = np.identity(10)\n",
    "D1, D2, D3\n"
   ]
  },
  {
   "cell_type": "markdown",
   "id": "4f128605",
   "metadata": {},
   "source": [
    "#### 5. Create a 3x3 matrix of random floating point values. "
   ]
  },
  {
   "cell_type": "code",
   "execution_count": 30,
   "id": "b84c4b4f",
   "metadata": {},
   "outputs": [
    {
     "name": "stdout",
     "output_type": "stream",
     "text": [
      "[[0.72289212 0.21088962 0.54714404]\n",
      " [0.49522377 0.08257153 0.70146016]\n",
      " [0.76793742 0.11940526 0.87244618]]\n"
     ]
    }
   ],
   "source": [
    "random_3_matrix_array = np.random.rand(3, 3)\n",
    "print(random_3_matrix_array)"
   ]
  },
  {
   "cell_type": "markdown",
   "id": "a01fb515",
   "metadata": {},
   "source": [
    "#### 6. Generate 10 evenly-spaced numbers between 1 and 4. "
   ]
  },
  {
   "cell_type": "code",
   "execution_count": 33,
   "id": "371a97f6",
   "metadata": {},
   "outputs": [
    {
     "data": {
      "text/plain": [
       "array([1.        , 1.33333333, 1.66666667, 2.        , 2.33333333,\n",
       "       2.66666667, 3.        , 3.33333333, 3.66666667, 4.        ])"
      ]
     },
     "execution_count": 33,
     "metadata": {},
     "output_type": "execute_result"
    }
   ],
   "source": [
    " np.linspace(1, 4, num=10)"
   ]
  },
  {
   "cell_type": "markdown",
   "id": "00e20f43",
   "metadata": {},
   "source": [
    "#### 7. Given the following array named M, slice and display just [4, 6]."
   ]
  },
  {
   "cell_type": "code",
   "execution_count": 40,
   "id": "bd95f4f9",
   "metadata": {},
   "outputs": [
    {
     "data": {
      "text/plain": [
       "array([[ 1,  3,  5],\n",
       "       [ 2,  4,  6],\n",
       "       [ 7,  9, 11]])"
      ]
     },
     "execution_count": 40,
     "metadata": {},
     "output_type": "execute_result"
    }
   ],
   "source": [
    "M = np.array([ [1,   3,  5], [2,  4 ,  6], [7, 9, 11] ])\n",
    "M"
   ]
  },
  {
   "cell_type": "code",
   "execution_count": 42,
   "id": "ff73a0c5",
   "metadata": {},
   "outputs": [
    {
     "data": {
      "text/plain": [
       "array([], shape=(0, 2), dtype=int32)"
      ]
     },
     "execution_count": 42,
     "metadata": {},
     "output_type": "execute_result"
    }
   ],
   "source": [
    "M[1:1 , 1:]"
   ]
  },
  {
   "cell_type": "markdown",
   "id": "0dfe5c2d",
   "metadata": {},
   "source": [
    "#### 8. Given the above array M, slice and display the sub matrix [ [3, 5], [4, 6] ]. "
   ]
  },
  {
   "cell_type": "code",
   "execution_count": null,
   "id": "b55902b7",
   "metadata": {},
   "outputs": [],
   "source": []
  },
  {
   "cell_type": "markdown",
   "id": "4ca1ff30",
   "metadata": {},
   "source": [
    "#### 9. Display both the column-wise and row-wise sums of M i.e. [10, 16, 22] and [9, 12, 27] respectively. "
   ]
  },
  {
   "cell_type": "code",
   "execution_count": null,
   "id": "1c9ff948",
   "metadata": {},
   "outputs": [],
   "source": []
  },
  {
   "cell_type": "markdown",
   "id": "0d5254cb",
   "metadata": {},
   "source": [
    "#### 10. Flatten M to a 1D array using appropriate  method. "
   ]
  },
  {
   "cell_type": "code",
   "execution_count": null,
   "id": "4a404293",
   "metadata": {},
   "outputs": [],
   "source": []
  },
  {
   "cell_type": "markdown",
   "id": "e7e87eba",
   "metadata": {},
   "source": [
    "#### 11. Find the <font color='orange'>second</font> largest number in a given matrix. Use your own matrix. "
   ]
  },
  {
   "cell_type": "code",
   "execution_count": null,
   "id": "7317ce13",
   "metadata": {},
   "outputs": [],
   "source": []
  },
  {
   "cell_type": "markdown",
   "id": "d8139b8b",
   "metadata": {},
   "source": [
    "#### 12. Multiply a 3x2 matrix with a 2x3 matrix (in at least two ways). "
   ]
  },
  {
   "cell_type": "code",
   "execution_count": null,
   "id": "66e6b43a",
   "metadata": {},
   "outputs": [],
   "source": []
  },
  {
   "cell_type": "markdown",
   "id": "854672de",
   "metadata": {},
   "source": [
    "#### 13. Given a matrix, display all its elements exceeding the median value. "
   ]
  },
  {
   "cell_type": "code",
   "execution_count": null,
   "id": "0024b5b0",
   "metadata": {},
   "outputs": [],
   "source": []
  },
  {
   "cell_type": "markdown",
   "id": "dd1dc379",
   "metadata": {},
   "source": [
    "#### 14. Compute the following hypothetical value. Assume ```i```  is each element of M, ```mean``` and ```std``` are the aggregate mean and standard deviation values of M. \n",
    "$$ result = \\sqrt{\\frac{mean + i} {std} }  $$"
   ]
  },
  {
   "cell_type": "code",
   "execution_count": null,
   "id": "8a1f3b66",
   "metadata": {},
   "outputs": [],
   "source": []
  },
  {
   "cell_type": "markdown",
   "id": "83331593",
   "metadata": {},
   "source": [
    "#### 15. Given the following formula for a certain parameter named Mean Square Error (MSE), use NumPy to compute its value. \n",
    "\n",
    "\n",
    "$$ MSE = \\frac{1}{n} \\sum_{i=1}^{n}(x_i-y_i)^2 $$\n"
   ]
  },
  {
   "cell_type": "code",
   "execution_count": null,
   "id": "a57fedb8",
   "metadata": {},
   "outputs": [],
   "source": [
    "# you are given the values of x and y below. Assume 'n' is the total no of elements.  \n",
    "\n",
    "x = np.arange(20)\n",
    "y = np.random.uniform(1, 10, 20)                        \n",
    "\n",
    "# MSE = ?? \n",
    "\n"
   ]
  }
 ],
 "metadata": {
  "kernelspec": {
   "display_name": "Python 3 (ipykernel)",
   "language": "python",
   "name": "python3"
  },
  "language_info": {
   "codemirror_mode": {
    "name": "ipython",
    "version": 3
   },
   "file_extension": ".py",
   "mimetype": "text/x-python",
   "name": "python",
   "nbconvert_exporter": "python",
   "pygments_lexer": "ipython3",
   "version": "3.9.7"
  }
 },
 "nbformat": 4,
 "nbformat_minor": 5
}
